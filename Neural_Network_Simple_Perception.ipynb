{
  "nbformat": 4,
  "nbformat_minor": 0,
  "metadata": {
    "colab": {
      "provenance": []
    },
    "kernelspec": {
      "name": "python3",
      "display_name": "Python 3"
    },
    "language_info": {
      "name": "python"
    }
  },
  "cells": [
    {
      "cell_type": "markdown",
      "source": [
        "1. What is deep learning, and how is it connected to artificial intelligence?\n",
        "* Deep learning is a subset of **machine learning** that uses multi-layered neural networks to learn from large amounts of data. It is a key technique in artificial intelligence (AI) for tasks like image recognition, language processing, and more.\n",
        "\n",
        "\n",
        "2. What is a neural network, and what are the different types of neural networks?\n",
        "* A neural network is a machine learning model designed to recognize patterns by processing data through layers of interconnected nodes.\n",
        "\n",
        "Types include feedforward (basic), CNN (images), RNN (sequences), LSTM (long-term memory), GAN (data generation), RBFN (classification), and modular networks (independent modules).\n",
        "\n",
        "\n",
        "3. What is the mathematical structure of a neural network?\n",
        "* The mathematical structure of a neural network consists of layers of neurons where each neuron computes a weighted sum of inputs, adds a bias, and applies an activation function:\n",
        "\n",
        "Output = Activation(Σ(weight × input) + bias)\n",
        "\n",
        "This process is repeated across multiple layers to learn complex patterns.\n",
        "\n",
        "\n",
        "4.  What is an activation function, and why is it essential in neural network?\n",
        "* An activation function introduces non-linearity into a neural network, allowing it to learn complex patterns.\n",
        "It is essential because, without it, the network would behave like a simple linear model, no matter how many layers it has.\n",
        "\n",
        "\n",
        "5.  Could you list some common activation functions used in neural networks?\n",
        "*Common activation functions include:\n",
        "1. ReLU (Rectified Linear Unit) – outputs zero for negative inputs, linear for positive\n",
        "2. Sigmoid – squashes input between 0 and 1\n",
        "3. Tanh – squashes input between -1 and 1\n",
        "4. Softmax – converts outputs into probabilities (used in classification)\n",
        "5. Leaky ReLU – allows a small gradient for negative inputs to avoid dead neurons\n",
        "\n",
        "\n",
        "6. What is a multilayer neural network?\n",
        "* A multilayer neural network, also known as a deep neural network, consists of an input layer, one or more hidden layers, and an output layer.\n",
        "It can learn complex patterns by processing data through multiple layers of neurons with activation functions.\n",
        "\n",
        "\n",
        "7. What is a loss function, and why is it crucial for neural network training?\n",
        "*A loss function measures the difference between the predicted output and the actual target value.\n",
        "It is crucial because it guides the neural network during training to adjust weights and minimize prediction errors.\n",
        "\n",
        "\n",
        "8. What are some common types of loss functions?\n",
        "* Common loss functions include:\n",
        "\n",
        "1. Mean Squared Error (MSE) – used for regression, measures average squared difference\n",
        "2. Cross-Entropy Loss – used for classification, measures difference between predicted and true probabilities\n",
        "3. Hinge Loss – used for support vector machines and binary classification\n",
        "4. Mean Absolute Error (MAE) – measures average absolute difference, less sensitive to outliers\n",
        "5. Kullback-Leibler Divergence – measures how one probability distribution differs from another\n",
        "\n",
        "\n",
        "9. How does a neural network learn?\n",
        "* A neural network learns by adjusting its weights using training data to minimize the loss function, typically through a process called backpropagation combined with an optimization algorithm like gradient descent.\n",
        "\n",
        "\n",
        "10. What is an optimizer in neural networks, and why is it necessary?\n",
        "* An optimizer is an algorithm that adjusts the neural network’s weights to minimize the loss function during training.\n",
        "It is necessary to efficiently find the best weights for accurate predictions and faster learning.\n",
        "\n",
        "\n",
        "11. Could you briefly describe some common optimizers?\n",
        "*\n",
        "1. Gradient Descent – updates weights by moving in the direction of the negative gradient.\n",
        "2. Stochastic Gradient Descent (SGD) – updates weights using one or a few training examples at a time for faster updates.\n",
        "3. Adam – combines momentum and adaptive learning rates for efficient and robust training.\n",
        "4. RMSprop – adapts learning rates based on recent gradients to improve convergence.\n",
        "5. Momentum – accelerates SGD by considering past gradients to smooth updates.\n",
        "\n",
        "\n",
        "12.  Can you explain forward and backward propagation in a neural network?\n",
        "* Forward propagation passes input data through the network to produce an output prediction. Backward propagation calculates the error and updates the weights by propagating the loss gradient backward through the network.\n",
        "\n",
        "\n",
        "13. What is weight initialization, and how does it impact training?\n",
        "* Weight initialization is the process of setting the starting values of a neural network’s weights before training. Proper initialization helps the network converge faster and avoids issues like vanishing or exploding gradients.\n",
        "\n",
        "\n",
        "14. What is the vanishing gradient problem in deep learning?\n",
        "* The vanishing gradient problem occurs when gradients become extremely small during backpropagation, slowing or stopping learning in early layers of deep neural networks. This makes it hard for the network to update weights and learn effectively.\n",
        "\n",
        "\n",
        "15. What is the exploding gradient problem?\n",
        "* The exploding gradient problem happens when gradients become excessively large during backpropagation, causing unstable updates and making the training process diverge.\n",
        "\n"
      ],
      "metadata": {
        "id": "exQrk5zd4hGy"
      }
    },
    {
      "cell_type": "code",
      "execution_count": null,
      "metadata": {
        "id": "DQYEoll34ZuX",
        "colab": {
          "base_uri": "https://localhost:8080/"
        },
        "outputId": "d275202b-62a7-46d3-c38f-2f5e20c48935"
      },
      "outputs": [
        {
          "output_type": "stream",
          "name": "stdout",
          "text": [
            "Input: [0 0], Predicted: 0\n",
            "Input: [0 1], Predicted: 0\n",
            "Input: [1 0], Predicted: 0\n",
            "Input: [1 1], Predicted: 1\n"
          ]
        }
      ],
      "source": [
        "#Question 1\n",
        "\n",
        "import numpy as np\n",
        "\n",
        "class Perceptron:\n",
        "    def __init__(self, input_size, learning_rate=0.1, epochs=10):\n",
        "        self.weights = np.zeros(input_size)\n",
        "        self.bias = 0\n",
        "        self.lr = learning_rate\n",
        "        self.epochs = epochs\n",
        "\n",
        "    def activation(self, x):\n",
        "        return 1 if x >= 0 else 0\n",
        "\n",
        "    def predict(self, x):\n",
        "        linear_output = np.dot(x, self.weights) + self.bias\n",
        "        return self.activation(linear_output)\n",
        "\n",
        "    def train(self, X, y):\n",
        "        for _ in range(self.epochs):\n",
        "            for xi, target in zip(X, y):\n",
        "                prediction = self.predict(xi)\n",
        "                error = target - prediction\n",
        "                self.weights += self.lr * error * xi\n",
        "                self.bias += self.lr * error\n",
        "\n",
        "X = np.array([[0,0], [0,1], [1,0], [1,1]])\n",
        "y = np.array([0, 0, 0, 1])\n",
        "perceptron = Perceptron(input_size=2)\n",
        "perceptron.train(X, y)\n",
        "\n",
        "for x in X:\n",
        "    print(f\"Input: {x}, Predicted: {perceptron.predict(x)}\")\n"
      ]
    },
    {
      "cell_type": "code",
      "source": [
        "#Question 2\n",
        "from keras.models import Sequential\n",
        "from keras.layers import Dense\n",
        "\n",
        "model = Sequential()\n",
        "model.add(Dense(64, activation='relu', input_shape=(784,)))  # hidden layer\n",
        "model.add(Dense(1, activation='sigmoid'))  # output layer\n",
        "model.compile(loss='binary_crossentropy', optimizer='adam', metrics=['accuracy'])\n"
      ],
      "metadata": {
        "id": "-KDbXFNdmHuk",
        "colab": {
          "base_uri": "https://localhost:8080/"
        },
        "outputId": "64fa92cc-3dc8-4082-f315-d1c5d42edfb9"
      },
      "execution_count": 1,
      "outputs": [
        {
          "output_type": "stream",
          "name": "stderr",
          "text": [
            "/usr/local/lib/python3.11/dist-packages/keras/src/layers/core/dense.py:87: UserWarning: Do not pass an `input_shape`/`input_dim` argument to a layer. When using Sequential models, prefer using an `Input(shape)` object as the first layer in the model instead.\n",
            "  super().__init__(activity_regularizer=activity_regularizer, **kwargs)\n"
          ]
        }
      ]
    },
    {
      "cell_type": "code",
      "source": [
        "#Question 3\n",
        "## Keras uses Xavier initialization by default for layers.\n",
        "## You can specify the initializer when creating a layer:\n",
        "\n",
        "from keras.initializers import glorot_uniform\n",
        "\n",
        "model.add(Dense(64, activation='relu', kernel_initializer=glorot_uniform(seed=42)))"
      ],
      "metadata": {
        "id": "ZtsPkNB6mKBu"
      },
      "execution_count": 2,
      "outputs": []
    },
    {
      "cell_type": "code",
      "source": [
        "#Question 4\n",
        "from keras.models import Sequential\n",
        "from keras.layers import Dense\n",
        "\n",
        "model = Sequential()\n",
        "model.add(Dense(64, activation='relu', input_shape=(784,)))  # ReLU activation\n",
        "model.add(Dense(32, activation='tanh'))  # Tanh activation\n",
        "model.add(Dense(1, activation='sigmoid'))  # Sigmoid activation"
      ],
      "metadata": {
        "id": "tAQ1sBuWmN9r"
      },
      "execution_count": 3,
      "outputs": []
    },
    {
      "cell_type": "code",
      "source": [
        "#Question 5\n",
        "from keras.models import Sequential\n",
        "from keras.layers import Dense, Dropout\n",
        "\n",
        "model = Sequential()\n",
        "model.add(Dense(64, activation='relu', input_shape=(784,)))\n",
        "model.add(Dropout(0.2))  # Dropout with 20% dropout rate\n",
        "model.add(Dense(32, activation='relu'))\n",
        "model.add(Dropout(0.2))  # Dropout with 20% dropout rate\n",
        "\n",
        "\n"
      ],
      "metadata": {
        "id": "S8enjO3amQqy"
      },
      "execution_count": 4,
      "outputs": []
    },
    {
      "cell_type": "code",
      "source": [
        "#Question 6\n",
        "import numpy as np\n",
        "\n",
        "# Define the neural network architecture\n",
        "input_size = 784\n",
        "hidden_size = 64\n",
        "output_size = 1\n",
        "\n",
        "# Initialize weights and biases\n",
        "weights1 = np.random.rand(input_size, hidden_size)\n",
        "bias1 = np.zeros((1, hidden_size))\n",
        "weights2 = np.random.rand(hidden_size, output_size)\n",
        "bias2 = np.zeros((1, output_size))\n",
        "\n",
        "# Define the activation functions\n",
        "def sigmoid(x):\n",
        "    return 1 / (1 + np.exp(-x))\n",
        "\n",
        "def relu(x):\n",
        "    return np.maximum(x, 0)\n",
        "\n",
        "# Forward propagation\n",
        "def forward_propagation(inputs):\n",
        "    hidden_layer = relu(np.dot(inputs, weights1) + bias1)\n",
        "    output_layer = sigmoid(np.dot(hidden_layer, weights2) + bias2)\n",
        "    return output_layer\n",
        "\n",
        "# Test the forward propagation\n",
        "inputs = np.random.rand(1, input_size)\n",
        "output = forward_propagation(inputs)\n",
        "print(output)\n",
        "\n"
      ],
      "metadata": {
        "id": "VKuDYgMTmQ9f",
        "colab": {
          "base_uri": "https://localhost:8080/"
        },
        "outputId": "babe0098-b664-4d8c-e57e-34387afd663f"
      },
      "execution_count": 5,
      "outputs": [
        {
          "output_type": "stream",
          "name": "stdout",
          "text": [
            "[[1.]]\n"
          ]
        }
      ]
    },
    {
      "cell_type": "code",
      "source": [
        "#Question 7\n",
        "from keras.models import Sequential\n",
        "from keras.layers import Dense, BatchNormalization\n",
        "\n",
        "model = Sequential()\n",
        "model.add(Dense(64, activation='relu', input_shape=(784,)))\n",
        "model.add(BatchNormalization())  # Batch normalization layer\n",
        "model.add(Dense(32, activation='relu'))\n",
        "model.add(BatchNormalization())  # Batch normalization layer\n"
      ],
      "metadata": {
        "id": "jAX09jzNmRM9"
      },
      "execution_count": 6,
      "outputs": []
    },
    {
      "cell_type": "code",
      "source": [
        "#Question 8\n",
        "import matplotlib.pyplot as plt\n",
        "import numpy as np\n",
        "from tensorflow import keras # Import the Keras API from TensorFlow\n",
        "\n",
        "# Load a dataset (e.g., MNIST) - you will need to install tensorflow\n",
        "(X_train, y_train), (X_test, y_test) = keras.datasets.mnist.load_data()\n",
        "\n",
        "# Preprocess the data (flatten and normalize)\n",
        "X_train = X_train.reshape(-1, 784).astype('float32') / 255.0\n",
        "X_test = X_test.reshape(-1, 784).astype('float32') / 255.0\n",
        "\n",
        "# Ensure the model architecture matches the input shape\n",
        "from keras.models import Sequential\n",
        "from keras.layers import Dense, BatchNormalization\n",
        "\n",
        "# Re-define the model to ensure it's built with the correct input shape if it wasn't defined previously\n",
        "model = Sequential()\n",
        "model.add(Dense(64, activation='relu', input_shape=(784,)))\n",
        "model.add(BatchNormalization())\n",
        "model.add(Dense(32, activation='relu'))\n",
        "model.add(BatchNormalization())\n",
        "model.add(Dense(10, activation='softmax')) # Changed output layer for MNIST (10 classes)\n",
        "\n",
        "# Compile the model with appropriate loss and metrics for multi-class classification\n",
        "model.compile(optimizer='adam',\n",
        "              loss='sparse_categorical_crossentropy',\n",
        "              metrics=['accuracy'])\n",
        "\n",
        "# Train the model and save history\n",
        "history = model.fit(X_train, y_train, epochs=10, validation_data=(X_test, y_test))\n",
        "\n",
        "# Plot accuracy and loss curves\n",
        "plt.plot(history.history['accuracy'], label='Training Accuracy')\n",
        "plt.plot(history.history['val_accuracy'], label='Validation Accuracy')\n",
        "plt.plot(history.history['loss'], label='Training Loss')\n",
        "plt.plot(history.history['val_loss'], label='Validation Loss')\n",
        "plt.legend()\n",
        "plt.show()"
      ],
      "metadata": {
        "id": "e0ojYEMemRXj",
        "colab": {
          "base_uri": "https://localhost:8080/",
          "height": 812
        },
        "outputId": "e170e9ed-56d1-4722-9af0-a1821e9edb5d"
      },
      "execution_count": 7,
      "outputs": [
        {
          "output_type": "stream",
          "name": "stdout",
          "text": [
            "Downloading data from https://storage.googleapis.com/tensorflow/tf-keras-datasets/mnist.npz\n",
            "\u001b[1m11490434/11490434\u001b[0m \u001b[32m━━━━━━━━━━━━━━━━━━━━\u001b[0m\u001b[37m\u001b[0m \u001b[1m0s\u001b[0m 0us/step\n",
            "Epoch 1/10\n",
            "\u001b[1m1875/1875\u001b[0m \u001b[32m━━━━━━━━━━━━━━━━━━━━\u001b[0m\u001b[37m\u001b[0m \u001b[1m9s\u001b[0m 4ms/step - accuracy: 0.8472 - loss: 0.5145 - val_accuracy: 0.9504 - val_loss: 0.1720\n",
            "Epoch 2/10\n",
            "\u001b[1m1875/1875\u001b[0m \u001b[32m━━━━━━━━━━━━━━━━━━━━\u001b[0m\u001b[37m\u001b[0m \u001b[1m7s\u001b[0m 4ms/step - accuracy: 0.9513 - loss: 0.1629 - val_accuracy: 0.9587 - val_loss: 0.1406\n",
            "Epoch 3/10\n",
            "\u001b[1m1875/1875\u001b[0m \u001b[32m━━━━━━━━━━━━━━━━━━━━\u001b[0m\u001b[37m\u001b[0m \u001b[1m9s\u001b[0m 3ms/step - accuracy: 0.9615 - loss: 0.1247 - val_accuracy: 0.9709 - val_loss: 0.0970\n",
            "Epoch 4/10\n",
            "\u001b[1m1875/1875\u001b[0m \u001b[32m━━━━━━━━━━━━━━━━━━━━\u001b[0m\u001b[37m\u001b[0m \u001b[1m10s\u001b[0m 3ms/step - accuracy: 0.9671 - loss: 0.1058 - val_accuracy: 0.9684 - val_loss: 0.1022\n",
            "Epoch 5/10\n",
            "\u001b[1m1875/1875\u001b[0m \u001b[32m━━━━━━━━━━━━━━━━━━━━\u001b[0m\u001b[37m\u001b[0m \u001b[1m7s\u001b[0m 4ms/step - accuracy: 0.9718 - loss: 0.0911 - val_accuracy: 0.9712 - val_loss: 0.0965\n",
            "Epoch 6/10\n",
            "\u001b[1m1875/1875\u001b[0m \u001b[32m━━━━━━━━━━━━━━━━━━━━\u001b[0m\u001b[37m\u001b[0m \u001b[1m6s\u001b[0m 3ms/step - accuracy: 0.9736 - loss: 0.0819 - val_accuracy: 0.9710 - val_loss: 0.0927\n",
            "Epoch 7/10\n",
            "\u001b[1m1875/1875\u001b[0m \u001b[32m━━━━━━━━━━━━━━━━━━━━\u001b[0m\u001b[37m\u001b[0m \u001b[1m10s\u001b[0m 3ms/step - accuracy: 0.9775 - loss: 0.0733 - val_accuracy: 0.9717 - val_loss: 0.0948\n",
            "Epoch 8/10\n",
            "\u001b[1m1875/1875\u001b[0m \u001b[32m━━━━━━━━━━━━━━━━━━━━\u001b[0m\u001b[37m\u001b[0m \u001b[1m7s\u001b[0m 4ms/step - accuracy: 0.9799 - loss: 0.0625 - val_accuracy: 0.9728 - val_loss: 0.0900\n",
            "Epoch 9/10\n",
            "\u001b[1m1875/1875\u001b[0m \u001b[32m━━━━━━━━━━━━━━━━━━━━\u001b[0m\u001b[37m\u001b[0m \u001b[1m9s\u001b[0m 3ms/step - accuracy: 0.9790 - loss: 0.0634 - val_accuracy: 0.9742 - val_loss: 0.0862\n",
            "Epoch 10/10\n",
            "\u001b[1m1875/1875\u001b[0m \u001b[32m━━━━━━━━━━━━━━━━━━━━\u001b[0m\u001b[37m\u001b[0m \u001b[1m10s\u001b[0m 3ms/step - accuracy: 0.9821 - loss: 0.0576 - val_accuracy: 0.9734 - val_loss: 0.0880\n"
          ]
        },
        {
          "output_type": "display_data",
          "data": {
            "text/plain": [
              "<Figure size 640x480 with 1 Axes>"
            ],
            "image/png": "[encoded data removed]"
          },
          "metadata": {}
        }
      ]
    },
    {
      "cell_type": "code",
      "source": [
        "#Question 9\n",
        "\n",
        "\n",
        "from keras.optimizers import Adam\n",
        "\n",
        "# Define the optimizer with gradient clipping\n",
        "optimizer = Adam(clipnorm=1.0)  # Clip gradients to a maximum norm of 1.0\n",
        "# optimizer = Adam(clipvalue=0.5)  # Clip gradients to a maximum value of 0.5\n",
        "\n",
        "model.compile(loss='binary_crossentropy', optimizer=optimizer, metrics=['accuracy'])"
      ],
      "metadata": {
        "id": "3-lyaqw3mRjv"
      },
      "execution_count": 8,
      "outputs": []
    },
    {
      "cell_type": "code",
      "source": [
        "#Question 10\n",
        "\n",
        "import keras.backend as K\n",
        "\n",
        "def custom_loss(y_true, y_pred):\n",
        "    return K.mean(K.square(y_pred - y_true)) + 0.1 * K.mean(K.abs(y_pred - y_true))\n",
        "\n",
        "model.compile(loss=custom_loss, optimizer='adam')"
      ],
      "metadata": {
        "id": "_MKV3eEOmRt3"
      },
      "execution_count": 9,
      "outputs": []
    },
    {
      "cell_type": "code",
      "source": [
        "#Question 11\n",
        "from keras.utils import plot_model\n",
        "\n",
        "plot_model(model, to_file='model.png', show_shapes=True, show_layer_names=True)\n",
        "\n",
        "model.summary()\n"
      ],
      "metadata": {
        "id": "oym_OE-1mSE0",
        "colab": {
          "base_uri": "https://localhost:8080/",
          "height": 321
        },
        "outputId": "e4f3674e-7fdf-4851-82ee-3053682e5a71"
      },
      "execution_count": 10,
      "outputs": [
        {
          "output_type": "display_data",
          "data": {
            "text/plain": [
              "\u001b[1mModel: \"sequential_4\"\u001b[0m\n"
            ],
            "text/html": [
              "<pre style=\"white-space:pre;overflow-x:auto;line-height:normal;font-family:Menlo,'DejaVu Sans Mono',consolas,'Courier New',monospace\"><span style=\"font-weight: bold\">Model: \"sequential_4\"</span>\n",
              "</pre>\n"
            ]
          },
          "metadata": {}
        },
        {
          "output_type": "display_data",
          "data": {
            "text/plain": [
              "┏━━━━━━━━━━━━━━━━━━━━━━━━━━━━━━━━━┳━━━━━━━━━━━━━━━━━━━━━━━━┳━━━━━━━━━━━━━━━┓\n",
              "┃\u001b[1m \u001b[0m\u001b[1mLayer (type)                   \u001b[0m\u001b[1m \u001b[0m┃\u001b[1m \u001b[0m\u001b[1mOutput Shape          \u001b[0m\u001b[1m \u001b[0m┃\u001b[1m \u001b[0m\u001b[1m      Param #\u001b[0m\u001b[1m \u001b[0m┃\n",
              "┡━━━━━━━━━━━━━━━━━━━━━━━━━━━━━━━━━╇━━━━━━━━━━━━━━━━━━━━━━━━╇━━━━━━━━━━━━━━━┩\n",
              "│ dense_10 (\u001b[38;5;33mDense\u001b[0m)                │ (\u001b[38;5;45mNone\u001b[0m, \u001b[38;5;34m64\u001b[0m)             │        \u001b[38;5;34m50,240\u001b[0m │\n",
              "├─────────────────────────────────┼────────────────────────┼───────────────┤\n",
              "│ batch_normalization_2           │ (\u001b[38;5;45mNone\u001b[0m, \u001b[38;5;34m64\u001b[0m)             │           \u001b[38;5;34m256\u001b[0m │\n",
              "│ (\u001b[38;5;33mBatchNormalization\u001b[0m)            │                        │               │\n",
              "├─────────────────────────────────┼────────────────────────┼───────────────┤\n",
              "│ dense_11 (\u001b[38;5;33mDense\u001b[0m)                │ (\u001b[38;5;45mNone\u001b[0m, \u001b[38;5;34m32\u001b[0m)             │         \u001b[38;5;34m2,080\u001b[0m │\n",
              "├─────────────────────────────────┼────────────────────────┼───────────────┤\n",
              "│ batch_normalization_3           │ (\u001b[38;5;45mNone\u001b[0m, \u001b[38;5;34m32\u001b[0m)             │           \u001b[38;5;34m128\u001b[0m │\n",
              "│ (\u001b[38;5;33mBatchNormalization\u001b[0m)            │                        │               │\n",
              "├─────────────────────────────────┼────────────────────────┼───────────────┤\n",
              "│ dense_12 (\u001b[38;5;33mDense\u001b[0m)                │ (\u001b[38;5;45mNone\u001b[0m, \u001b[38;5;34m10\u001b[0m)             │           \u001b[38;5;34m330\u001b[0m │\n",
              "└─────────────────────────────────┴────────────────────────┴───────────────┘\n"
            ],
            "text/html": [
              "<pre style=\"white-space:pre;overflow-x:auto;line-height:normal;font-family:Menlo,'DejaVu Sans Mono',consolas,'Courier New',monospace\">┏━━━━━━━━━━━━━━━━━━━━━━━━━━━━━━━━━┳━━━━━━━━━━━━━━━━━━━━━━━━┳━━━━━━━━━━━━━━━┓\n",
              "┃<span style=\"font-weight: bold\"> Layer (type)                    </span>┃<span style=\"font-weight: bold\"> Output Shape           </span>┃<span style=\"font-weight: bold\">       Param # </span>┃\n",
              "┡━━━━━━━━━━━━━━━━━━━━━━━━━━━━━━━━━╇━━━━━━━━━━━━━━━━━━━━━━━━╇━━━━━━━━━━━━━━━┩\n",
              "│ dense_10 (<span style=\"color: #0087ff; text-decoration-color: #0087ff\">Dense</span>)                │ (<span style=\"color: #00d7ff; text-decoration-color: #00d7ff\">None</span>, <span style=\"color: #00af00; text-decoration-color: #00af00\">64</span>)             │        <span style=\"color: #00af00; text-decoration-color: #00af00\">50,240</span> │\n",
              "├─────────────────────────────────┼────────────────────────┼───────────────┤\n",
              "│ batch_normalization_2           │ (<span style=\"color: #00d7ff; text-decoration-color: #00d7ff\">None</span>, <span style=\"color: #00af00; text-decoration-color: #00af00\">64</span>)             │           <span style=\"color: #00af00; text-decoration-color: #00af00\">256</span> │\n",
              "│ (<span style=\"color: #0087ff; text-decoration-color: #0087ff\">BatchNormalization</span>)            │                        │               │\n",
              "├─────────────────────────────────┼────────────────────────┼───────────────┤\n",
              "│ dense_11 (<span style=\"color: #0087ff; text-decoration-color: #0087ff\">Dense</span>)                │ (<span style=\"color: #00d7ff; text-decoration-color: #00d7ff\">None</span>, <span style=\"color: #00af00; text-decoration-color: #00af00\">32</span>)             │         <span style=\"color: #00af00; text-decoration-color: #00af00\">2,080</span> │\n",
              "├─────────────────────────────────┼────────────────────────┼───────────────┤\n",
              "│ batch_normalization_3           │ (<span style=\"color: #00d7ff; text-decoration-color: #00d7ff\">None</span>, <span style=\"color: #00af00; text-decoration-color: #00af00\">32</span>)             │           <span style=\"color: #00af00; text-decoration-color: #00af00\">128</span> │\n",
              "│ (<span style=\"color: #0087ff; text-decoration-color: #0087ff\">BatchNormalization</span>)            │                        │               │\n",
              "├─────────────────────────────────┼────────────────────────┼───────────────┤\n",
              "│ dense_12 (<span style=\"color: #0087ff; text-decoration-color: #0087ff\">Dense</span>)                │ (<span style=\"color: #00d7ff; text-decoration-color: #00d7ff\">None</span>, <span style=\"color: #00af00; text-decoration-color: #00af00\">10</span>)             │           <span style=\"color: #00af00; text-decoration-color: #00af00\">330</span> │\n",
              "└─────────────────────────────────┴────────────────────────┴───────────────┘\n",
              "</pre>\n"
            ]
          },
          "metadata": {}
        },
        {
          "output_type": "display_data",
          "data": {
            "text/plain": [
              "\u001b[1m Total params: \u001b[0m\u001b[38;5;34m53,034\u001b[0m (207.16 KB)\n"
            ],
            "text/html": [
              "<pre style=\"white-space:pre;overflow-x:auto;line-height:normal;font-family:Menlo,'DejaVu Sans Mono',consolas,'Courier New',monospace\"><span style=\"font-weight: bold\"> Total params: </span><span style=\"color: #00af00; text-decoration-color: #00af00\">53,034</span> (207.16 KB)\n",
              "</pre>\n"
            ]
          },
          "metadata": {}
        },
        {
          "output_type": "display_data",
          "data": {
            "text/plain": [
              "\u001b[1m Trainable params: \u001b[0m\u001b[38;5;34m52,842\u001b[0m (206.41 KB)\n"
            ],
            "text/html": [
              "<pre style=\"white-space:pre;overflow-x:auto;line-height:normal;font-family:Menlo,'DejaVu Sans Mono',consolas,'Courier New',monospace\"><span style=\"font-weight: bold\"> Trainable params: </span><span style=\"color: #00af00; text-decoration-color: #00af00\">52,842</span> (206.41 KB)\n",
              "</pre>\n"
            ]
          },
          "metadata": {}
        },
        {
          "output_type": "display_data",
          "data": {
            "text/plain": [
              "\u001b[1m Non-trainable params: \u001b[0m\u001b[38;5;34m192\u001b[0m (768.00 B)\n"
            ],
            "text/html": [
              "<pre style=\"white-space:pre;overflow-x:auto;line-height:normal;font-family:Menlo,'DejaVu Sans Mono',consolas,'Courier New',monospace\"><span style=\"font-weight: bold\"> Non-trainable params: </span><span style=\"color: #00af00; text-decoration-color: #00af00\">192</span> (768.00 B)\n",
              "</pre>\n"
            ]
          },
          "metadata": {}
        }
      ]
    }
  ]
}